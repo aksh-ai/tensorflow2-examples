{
  "nbformat": 4,
  "nbformat_minor": 0,
  "metadata": {
    "kernelspec": {
      "display_name": "Python 3",
      "language": "python",
      "name": "python3"
    },
    "language_info": {
      "codemirror_mode": {
        "name": "ipython",
        "version": 3
      },
      "file_extension": ".py",
      "mimetype": "text/x-python",
      "name": "python",
      "nbconvert_exporter": "python",
      "pygments_lexer": "ipython3",
      "version": "3.7.4"
    },
    "colab": {
      "name": "MNIST.ipynb",
      "provenance": [],
      "collapsed_sections": []
    },
    "accelerator": "GPU"
  },
  "cells": [
    {
      "cell_type": "code",
      "metadata": {
        "id": "JxkqfBAtKzC9",
        "colab_type": "code",
        "colab": {}
      },
      "source": [
        "import cv2\n",
        "import tensorflow as tf\n",
        "import matplotlib.pyplot as plt\n",
        "from typing import Callable, Iterable, List, Tuple\n",
        "from tensorflow.keras.initializers import GlorotUniform\n",
        "import numpy as np"
      ],
      "execution_count": 0,
      "outputs": []
    },
    {
      "cell_type": "code",
      "metadata": {
        "id": "uSLqAVTsKzDB",
        "colab_type": "code",
        "outputId": "90a2a562-2c5e-49e0-968a-ea5c2fe5a39c",
        "colab": {
          "base_uri": "https://localhost:8080/",
          "height": 318
        }
      },
      "source": [
        "!nvidia-smi"
      ],
      "execution_count": 2,
      "outputs": [
        {
          "output_type": "stream",
          "text": [
            "Tue Jun  9 06:58:54 2020       \n",
            "+-----------------------------------------------------------------------------+\n",
            "| NVIDIA-SMI 440.82       Driver Version: 418.67       CUDA Version: 10.1     |\n",
            "|-------------------------------+----------------------+----------------------+\n",
            "| GPU  Name        Persistence-M| Bus-Id        Disp.A | Volatile Uncorr. ECC |\n",
            "| Fan  Temp  Perf  Pwr:Usage/Cap|         Memory-Usage | GPU-Util  Compute M. |\n",
            "|===============================+======================+======================|\n",
            "|   0  Tesla T4            Off  | 00000000:00:04.0 Off |                    0 |\n",
            "| N/A   73C    P8    11W /  70W |      0MiB / 15079MiB |      0%      Default |\n",
            "+-------------------------------+----------------------+----------------------+\n",
            "                                                                               \n",
            "+-----------------------------------------------------------------------------+\n",
            "| Processes:                                                       GPU Memory |\n",
            "|  GPU       PID   Type   Process name                             Usage      |\n",
            "|=============================================================================|\n",
            "|  No running processes found                                                 |\n",
            "+-----------------------------------------------------------------------------+\n"
          ],
          "name": "stdout"
        }
      ]
    },
    {
      "cell_type": "code",
      "metadata": {
        "id": "d18b-detKzDE",
        "colab_type": "code",
        "colab": {}
      },
      "source": [
        "class Dense(object):\n",
        "    def __init__(self, in_feat: int, out_feat: int, activation: Callable = None, name: str = 'dense', initializer: Callable = GlorotUniform(seed=0))->None:\n",
        "        # Weight parameters\n",
        "        self.W = tf.Variable(initializer([in_feat, out_feat]), name=name + '_W')\n",
        "        self.b = tf.Variable(tf.zeros([out_feat]), name=name + '_b')\n",
        "\n",
        "        # params for weight updates\n",
        "        self.params = [self.W, self.b]\n",
        "\n",
        "        # layer attributes\n",
        "        self.activation = activation\n",
        "\n",
        "    def __call__(self, X: tf.Tensor) -> tf.Tensor:\n",
        "        if callable(self.activation):\n",
        "            return self.activation(tf.add(tf.matmul(X, self.W), self.b))\n",
        "\n",
        "        else:\n",
        "            return tf.add(tf.matmul(X, self.W), self.b)\n",
        "\n",
        "    def forward(self, X: tf.Tensor) -> tf.Tensor:\n",
        "        return self.__call__(X)"
      ],
      "execution_count": 0,
      "outputs": []
    },
    {
      "cell_type": "code",
      "metadata": {
        "id": "-upqWZEiKzDG",
        "colab_type": "code",
        "colab": {}
      },
      "source": [
        "class Conv2D(object):\n",
        "    def __init__(self, in_feat: int, out_feat: int, kernel_size: Tuple, strides: Tuple = (1, 1), activation: Callable = None, name: str = 'conv', padding: str = 'VALID', use_batch_norm: bool = False, initializer: Callable = GlorotUniform(seed=0)) -> None:\n",
        "        # Weight parameters\n",
        "        self.W = tf.Variable(initializer([kernel_size[0], kernel_size[1], in_feat, out_feat]), name=name + '_W')\n",
        "        self.b = tf.Variable(tf.zeros([out_feat]), name=name + '_b')\n",
        "\n",
        "        # params for weight updates\n",
        "        self.params = [self.W, self.b]\n",
        "\n",
        "        # layer attributes\n",
        "        self.name = name\n",
        "        self.stride = strides\n",
        "        self.padding = padding\n",
        "        self.activation = activation\n",
        "        self.use_batch_norm = use_batch_norm\n",
        "\n",
        "    def __call__(self, X: tf.Tensor) -> tf.Tensor:\n",
        "        out = tf.nn.conv2d(X, self.W, strides=[1, self.stride[0], self.stride[1], 1], padding=self.padding)\n",
        "        out = tf.nn.bias_add(out, self.b)\n",
        "\n",
        "        if self.use_batch_norm:\n",
        "            mean, variance = tf.nn.moments(out, axes=[0], keepdims=True)\n",
        "            out = tf.nn.batch_normalization(out, mean=mean, variance=variance, offset=0.0, scale=1.0, variance_epsilon=1e-5)\n",
        "\n",
        "        if callable(self.activation):\n",
        "            out = self.activation(out)\n",
        "\n",
        "        return out\n",
        "\n",
        "    def forward(self, X: tf.Tensor) -> tf.Tensor:\n",
        "        return self.__call__(X)"
      ],
      "execution_count": 0,
      "outputs": []
    },
    {
      "cell_type": "code",
      "metadata": {
        "id": "_LPrxj5cKzDJ",
        "colab_type": "code",
        "colab": {}
      },
      "source": [
        "class CNN(tf.Module):\n",
        "    def __init__(self):\n",
        "        self.conv1 = Conv2D(1, 64, (3, 3), (1, 1), activation=tf.nn.selu, name='conv1')\n",
        "        self.conv2 = Conv2D(64, 128, (3, 3), (1, 1), activation=tf.nn.selu, name='conv2')\n",
        "        self.conv3 = Conv2D(128, 256, (3, 3), (1, 1), activation=tf.nn.selu, name='conv3')\n",
        "        self.conv4 = Conv2D(256, 512, (3, 3), (1, 1), activation=tf.nn.selu, name='conv4')\n",
        "\n",
        "        self.fc1 = Dense(131072, 128, activation=tf.nn.selu, name='fc1')\n",
        "        self.fc2 = Dense(128, 256, activation=tf.nn.selu, name='fc2')\n",
        "        self.fc3 = Dense(256, 10, activation=tf.nn.softmax, name='out')\n",
        "\n",
        "        self.layers = [self.conv1, self.conv2, self.conv3, self.conv4, self.fc1, self.fc2, self.fc3]\n",
        "\n",
        "        self.params = []\n",
        "\n",
        "        for layer in self.layers:\n",
        "            try:\n",
        "                self.params.append([layer.W, layer.b])\n",
        "            except:\n",
        "                pass\n",
        "\n",
        "        self.params = [j for i in self.params for j in i]\n",
        "\n",
        "        self.loss = tf.keras.losses.categorical_crossentropy\n",
        "        self.opt = tf.keras.optimizers.SGD(learning_rate=0.001, momentum=0.9)\n",
        "\n",
        "    @tf.function\n",
        "    def __call__(self, X: tf.Tensor) -> tf.Tensor:\n",
        "        X = self.conv1(X)\n",
        "        X = tf.nn.max_pool2d(X, 2, 1, 'VALID')\n",
        "        X = self.conv2(X)\n",
        "        X = tf.nn.max_pool2d(X, 2, 1, 'VALID')\n",
        "        X = self.conv3(X)\n",
        "        X = tf.nn.max_pool2d(X, 2, 1, 'VALID')\n",
        "        X = self.conv4(X)\n",
        "        X = tf.nn.max_pool2d(X, 2, 1, 'VALID')\n",
        "\n",
        "        X = tf.reshape(X, [-1, X.shape[1] * X.shape[2] * X.shape[3]])\n",
        "\n",
        "        X = self.fc1(X)\n",
        "        X = tf.nn.dropout(X, rate=0.2)\n",
        "        X = self.fc2(X)\n",
        "        X = tf.nn.dropout(X, rate=0.2)\n",
        "        X = self.fc3(X)\n",
        "\n",
        "        return X\n",
        "\n",
        "    def grad(self, y_hat, y_true):\n",
        "        with tf.GradientTape() as g:\n",
        "            y_hat = self.__call__(y_hat)\n",
        "            error = self.cost(y_hat, y_true)\n",
        "\n",
        "        return g.gradient(error, self.params), error, y_hat\n",
        "\n",
        "    def cost(self, y_hat, y_true):\n",
        "        return tf.reduce_mean(self.loss(y_true, y_hat))\n",
        "\n",
        "    def backward(self, inputs, targets):\n",
        "        grads, loss, y_hat = self.grad(inputs, targets)\n",
        "        self.optimize(grads)\n",
        "        return loss, y_hat\n",
        "\n",
        "    def optimize(self, grads):\n",
        "        self.opt.apply_gradients(zip(grads, self.params))\n",
        "\n",
        "    def accuracy(self, y, yhat):\n",
        "        correct = tf.equal(tf.argmax(y, 1), tf.argmax(yhat, 1))\n",
        "\n",
        "        num = tf.reduce_sum(tf.cast(correct, dtype = tf.float32))\n",
        "        den = tf.cast(y.shape[0], dtype = tf.float32)\n",
        "        return num / den\n",
        "\n",
        "    def evaluate(self, X_test, y_test, batch_size):\n",
        "        num_examples = len(y_test)\n",
        "        acc, loss = 0, 0\n",
        "\n",
        "        for offset in range(0, num_examples, batch_size):\n",
        "            end = offset + batch_size\n",
        "            batch_x, batch_y = X_test[offset:end], y_test[offset:end]\n",
        "\n",
        "            y_hat = self.__call__(batch_x)\n",
        "            loss = self.cost(y_hat, batch_y)\n",
        "\n",
        "            acc = self.accuracy(batch_y, y_hat)\n",
        "\n",
        "        print(f\"Validation Accuracy: {acc:.4f} | Validation Loss: {loss:.4f}\\n\")\n",
        "\n",
        "        return acc.numpy(), loss.numpy()\n",
        "\n",
        "    def fit(self, X_train, y_train, epochs=30, batch_size=32, validation_data=()):\n",
        "        num_examples = len(y_train)\n",
        "\n",
        "        total_accuracy = []\n",
        "        total_loss = []\n",
        "        loss, acc = 0, 0\n",
        "        val_loss, val_acc = 0, 0\n",
        "        trn_err, trn_acy = [], []\n",
        "        val_err, val_acy = [], []\n",
        "\n",
        "        batch_x, batch_y = None, None\n",
        "\n",
        "        X_test, y_test = validation_data\n",
        "\n",
        "        for i in range(epochs):\n",
        "            trn_loss = []\n",
        "            trn_accy = []\n",
        "\n",
        "            print(\"Epoch {}\".format(i+1))\n",
        "\n",
        "            for offset in range(0, num_examples, batch_size):\n",
        "                end = offset + batch_size\n",
        "                batch_x, batch_y = X_train[offset:end], y_train[offset:end]\n",
        "\n",
        "                loss, y_hat = self.backward(batch_x, batch_y)\n",
        "\n",
        "                acc = self.accuracy(batch_y, y_hat)\n",
        "\n",
        "                if(end==batch_size or end % 8192==0 or end==num_examples):\n",
        "                    print(f\"Batch [{end:5d}/{num_examples}] | Accuracy: {acc:.4f} | Loss: {loss:.4f}\")\n",
        "\n",
        "                trn_loss.append(loss)\n",
        "                trn_accy.append(acc)\n",
        "\n",
        "            trn_err = tf.reduce_mean(trn_loss).numpy()\n",
        "            trn_acy = tf.reduce_mean(trn_accy).numpy()\n",
        "\n",
        "            total_accuracy.append(trn_acy)\n",
        "            total_loss.append(trn_err)\n",
        "\n",
        "            val_acc, val_loss = self.evaluate(X_test, y_test, batch_size)\n",
        "\n",
        "            val_acy.append(val_acc)\n",
        "            val_err.append(val_loss)\n",
        "\n",
        "        return {'accuracy': total_accuracy, 'loss': total_loss, 'val_accuracy': val_acy, 'val_loss': val_err}"
      ],
      "execution_count": 0,
      "outputs": []
    },
    {
      "cell_type": "code",
      "metadata": {
        "id": "_4iDqviuKzDL",
        "colab_type": "code",
        "colab": {}
      },
      "source": [
        "(X_train, y_train), (X_test, y_test) = tf.keras.datasets.mnist.load_data()"
      ],
      "execution_count": 0,
      "outputs": []
    },
    {
      "cell_type": "code",
      "metadata": {
        "id": "KGj07ouGKzDP",
        "colab_type": "code",
        "colab": {}
      },
      "source": [
        "X_train = tf.expand_dims(tf.cast(tf.convert_to_tensor(X_train/255.0), tf.float32), 3)\n",
        "y_train = tf.keras.utils.to_categorical(y_train)\n",
        "y_train = tf.cast(tf.convert_to_tensor(y_train), tf.float32)"
      ],
      "execution_count": 0,
      "outputs": []
    },
    {
      "cell_type": "code",
      "metadata": {
        "id": "rncfAjWzKzDT",
        "colab_type": "code",
        "colab": {}
      },
      "source": [
        "X_test = tf.expand_dims(tf.cast(tf.convert_to_tensor(X_test/255.0), tf.float32), 3)\n",
        "y_test = tf.keras.utils.to_categorical(y_test)\n",
        "y_test = tf.cast(tf.convert_to_tensor(y_test), tf.float32)"
      ],
      "execution_count": 0,
      "outputs": []
    },
    {
      "cell_type": "code",
      "metadata": {
        "id": "iIwrrByCKzDW",
        "colab_type": "code",
        "colab": {}
      },
      "source": [
        "model = CNN()"
      ],
      "execution_count": 0,
      "outputs": []
    },
    {
      "cell_type": "code",
      "metadata": {
        "scrolled": true,
        "id": "z441akV_KzDZ",
        "colab_type": "code",
        "outputId": "acbc6a9e-1768-4ddf-8de2-62e697ff12fe",
        "colab": {
          "base_uri": "https://localhost:8080/",
          "height": 1000
        }
      },
      "source": [
        "h = model.fit(X_train, y_train, epochs=10, batch_size=32, validation_data=(X_test, y_test))"
      ],
      "execution_count": 10,
      "outputs": [
        {
          "output_type": "stream",
          "text": [
            "Epoch 1\n",
            "Batch [   32/60000] | Accuracy: 0.0625 | Loss: 2.3701\n",
            "Batch [ 8192/60000] | Accuracy: 0.9688 | Loss: 0.1509\n",
            "Batch [16384/60000] | Accuracy: 0.9688 | Loss: 0.1427\n",
            "Batch [24576/60000] | Accuracy: 0.9375 | Loss: 0.1180\n",
            "Batch [32768/60000] | Accuracy: 0.9688 | Loss: 0.0532\n",
            "Batch [40960/60000] | Accuracy: 0.9688 | Loss: 0.0853\n",
            "Batch [49152/60000] | Accuracy: 0.9375 | Loss: 0.1868\n",
            "Batch [57344/60000] | Accuracy: 0.9688 | Loss: 0.0521\n",
            "Batch [60000/60000] | Accuracy: 1.0000 | Loss: 0.0349\n",
            "Validation Accuracy: 0.9375 | Validation Loss: 0.1795\n",
            "\n",
            "Epoch 2\n",
            "Batch [   32/60000] | Accuracy: 0.9375 | Loss: 0.0884\n",
            "Batch [ 8192/60000] | Accuracy: 1.0000 | Loss: 0.0228\n",
            "Batch [16384/60000] | Accuracy: 0.9375 | Loss: 0.3233\n",
            "Batch [24576/60000] | Accuracy: 1.0000 | Loss: 0.0417\n",
            "Batch [32768/60000] | Accuracy: 0.9688 | Loss: 0.0530\n",
            "Batch [40960/60000] | Accuracy: 0.9688 | Loss: 0.0702\n",
            "Batch [49152/60000] | Accuracy: 0.9375 | Loss: 0.1395\n",
            "Batch [57344/60000] | Accuracy: 1.0000 | Loss: 0.0266\n",
            "Batch [60000/60000] | Accuracy: 1.0000 | Loss: 0.0031\n",
            "Validation Accuracy: 1.0000 | Validation Loss: 0.0046\n",
            "\n",
            "Epoch 3\n",
            "Batch [   32/60000] | Accuracy: 1.0000 | Loss: 0.0115\n",
            "Batch [ 8192/60000] | Accuracy: 0.9688 | Loss: 0.0818\n",
            "Batch [16384/60000] | Accuracy: 0.9688 | Loss: 0.2253\n",
            "Batch [24576/60000] | Accuracy: 1.0000 | Loss: 0.0042\n",
            "Batch [32768/60000] | Accuracy: 0.9688 | Loss: 0.0972\n",
            "Batch [40960/60000] | Accuracy: 0.9688 | Loss: 0.1728\n",
            "Batch [49152/60000] | Accuracy: 0.9375 | Loss: 0.1876\n",
            "Batch [57344/60000] | Accuracy: 1.0000 | Loss: 0.0206\n",
            "Batch [60000/60000] | Accuracy: 1.0000 | Loss: 0.0184\n",
            "Validation Accuracy: 1.0000 | Validation Loss: 0.0004\n",
            "\n",
            "Epoch 4\n",
            "Batch [   32/60000] | Accuracy: 1.0000 | Loss: 0.0310\n",
            "Batch [ 8192/60000] | Accuracy: 1.0000 | Loss: 0.0066\n",
            "Batch [16384/60000] | Accuracy: 0.9688 | Loss: 0.2256\n",
            "Batch [24576/60000] | Accuracy: 1.0000 | Loss: 0.0083\n",
            "Batch [32768/60000] | Accuracy: 0.9688 | Loss: 0.0436\n",
            "Batch [40960/60000] | Accuracy: 0.9688 | Loss: 0.1703\n",
            "Batch [49152/60000] | Accuracy: 0.9688 | Loss: 0.0652\n",
            "Batch [57344/60000] | Accuracy: 1.0000 | Loss: 0.0008\n",
            "Batch [60000/60000] | Accuracy: 1.0000 | Loss: 0.0057\n",
            "Validation Accuracy: 1.0000 | Validation Loss: 0.0003\n",
            "\n",
            "Epoch 5\n",
            "Batch [   32/60000] | Accuracy: 1.0000 | Loss: 0.0224\n",
            "Batch [ 8192/60000] | Accuracy: 1.0000 | Loss: 0.0218\n",
            "Batch [16384/60000] | Accuracy: 0.9688 | Loss: 0.3944\n",
            "Batch [24576/60000] | Accuracy: 1.0000 | Loss: 0.0070\n",
            "Batch [32768/60000] | Accuracy: 0.9688 | Loss: 0.1582\n",
            "Batch [40960/60000] | Accuracy: 1.0000 | Loss: 0.0055\n",
            "Batch [49152/60000] | Accuracy: 0.9375 | Loss: 0.1445\n",
            "Batch [57344/60000] | Accuracy: 1.0000 | Loss: 0.0042\n",
            "Batch [60000/60000] | Accuracy: 1.0000 | Loss: 0.0006\n",
            "Validation Accuracy: 1.0000 | Validation Loss: 0.0003\n",
            "\n",
            "Epoch 6\n",
            "Batch [   32/60000] | Accuracy: 1.0000 | Loss: 0.0109\n",
            "Batch [ 8192/60000] | Accuracy: 0.9688 | Loss: 0.1225\n",
            "Batch [16384/60000] | Accuracy: 0.9688 | Loss: 0.2367\n",
            "Batch [24576/60000] | Accuracy: 1.0000 | Loss: 0.0070\n",
            "Batch [32768/60000] | Accuracy: 1.0000 | Loss: 0.0043\n",
            "Batch [40960/60000] | Accuracy: 1.0000 | Loss: 0.0115\n",
            "Batch [49152/60000] | Accuracy: 0.9375 | Loss: 0.1791\n",
            "Batch [57344/60000] | Accuracy: 1.0000 | Loss: 0.0037\n",
            "Batch [60000/60000] | Accuracy: 1.0000 | Loss: 0.0028\n",
            "Validation Accuracy: 1.0000 | Validation Loss: 0.0148\n",
            "\n",
            "Epoch 7\n",
            "Batch [   32/60000] | Accuracy: 1.0000 | Loss: 0.0018\n",
            "Batch [ 8192/60000] | Accuracy: 1.0000 | Loss: 0.0130\n",
            "Batch [16384/60000] | Accuracy: 0.9688 | Loss: 0.1435\n",
            "Batch [24576/60000] | Accuracy: 1.0000 | Loss: 0.0039\n",
            "Batch [32768/60000] | Accuracy: 0.9688 | Loss: 0.0453\n",
            "Batch [40960/60000] | Accuracy: 1.0000 | Loss: 0.0223\n",
            "Batch [49152/60000] | Accuracy: 0.9688 | Loss: 0.1068\n",
            "Batch [57344/60000] | Accuracy: 1.0000 | Loss: 0.0017\n",
            "Batch [60000/60000] | Accuracy: 1.0000 | Loss: 0.0002\n",
            "Validation Accuracy: 1.0000 | Validation Loss: 0.0001\n",
            "\n",
            "Epoch 8\n",
            "Batch [   32/60000] | Accuracy: 1.0000 | Loss: 0.0029\n",
            "Batch [ 8192/60000] | Accuracy: 1.0000 | Loss: 0.0017\n",
            "Batch [16384/60000] | Accuracy: 0.9688 | Loss: 0.2233\n",
            "Batch [24576/60000] | Accuracy: 1.0000 | Loss: 0.0009\n",
            "Batch [32768/60000] | Accuracy: 0.9688 | Loss: 0.0581\n",
            "Batch [40960/60000] | Accuracy: 1.0000 | Loss: 0.0177\n",
            "Batch [49152/60000] | Accuracy: 0.9688 | Loss: 0.0555\n",
            "Batch [57344/60000] | Accuracy: 1.0000 | Loss: 0.0004\n",
            "Batch [60000/60000] | Accuracy: 1.0000 | Loss: 0.0004\n",
            "Validation Accuracy: 1.0000 | Validation Loss: 0.0001\n",
            "\n",
            "Epoch 9\n",
            "Batch [   32/60000] | Accuracy: 1.0000 | Loss: 0.0034\n",
            "Batch [ 8192/60000] | Accuracy: 1.0000 | Loss: 0.0009\n",
            "Batch [16384/60000] | Accuracy: 0.9688 | Loss: 0.0880\n",
            "Batch [24576/60000] | Accuracy: 1.0000 | Loss: 0.0011\n",
            "Batch [32768/60000] | Accuracy: 1.0000 | Loss: 0.0141\n",
            "Batch [40960/60000] | Accuracy: 1.0000 | Loss: 0.0118\n",
            "Batch [49152/60000] | Accuracy: 1.0000 | Loss: 0.0248\n",
            "Batch [57344/60000] | Accuracy: 1.0000 | Loss: 0.0009\n",
            "Batch [60000/60000] | Accuracy: 1.0000 | Loss: 0.0000\n",
            "Validation Accuracy: 1.0000 | Validation Loss: 0.0001\n",
            "\n",
            "Epoch 10\n",
            "Batch [   32/60000] | Accuracy: 1.0000 | Loss: 0.0019\n",
            "Batch [ 8192/60000] | Accuracy: 1.0000 | Loss: 0.0059\n",
            "Batch [16384/60000] | Accuracy: 0.9688 | Loss: 0.1544\n",
            "Batch [24576/60000] | Accuracy: 1.0000 | Loss: 0.0004\n",
            "Batch [32768/60000] | Accuracy: 0.9688 | Loss: 0.0899\n",
            "Batch [40960/60000] | Accuracy: 1.0000 | Loss: 0.0003\n",
            "Batch [49152/60000] | Accuracy: 1.0000 | Loss: 0.0071\n",
            "Batch [57344/60000] | Accuracy: 1.0000 | Loss: 0.0042\n",
            "Batch [60000/60000] | Accuracy: 1.0000 | Loss: 0.0004\n",
            "Validation Accuracy: 1.0000 | Validation Loss: 0.0001\n",
            "\n"
          ],
          "name": "stdout"
        }
      ]
    },
    {
      "cell_type": "code",
      "metadata": {
        "id": "3D5uNEFSKzDf",
        "colab_type": "code",
        "outputId": "f8f0e183-88ea-499e-c458-a685ee21c2ad",
        "colab": {
          "base_uri": "https://localhost:8080/",
          "height": 281
        }
      },
      "source": [
        "plt.plot(h['loss'], label='Loss')\n",
        "plt.plot(h['val_loss'], label='Validation Loss')\n",
        "plt.title('Loss Evaluation')\n",
        "plt.legend()\n",
        "plt.grid()\n",
        "plt.show()"
      ],
      "execution_count": 11,
      "outputs": [
        {
          "output_type": "display_data",
          "data": {
            "image/png": "[encoded data removed]",
            "text/plain": [
              "<Figure size 432x288 with 1 Axes>"
            ]
          },
          "metadata": {
            "tags": [],
            "needs_background": "light"
          }
        }
      ]
    },
    {
      "cell_type": "code",
      "metadata": {
        "id": "aQq6G8M7Ot9n",
        "colab_type": "code",
        "outputId": "b491cfb3-aeef-4223-e782-38bc0c40133a",
        "colab": {
          "base_uri": "https://localhost:8080/",
          "height": 281
        }
      },
      "source": [
        "plt.plot(h['accuracy'], label='Accuracy')\n",
        "plt.plot(h['val_accuracy'], label='Validation Accuracy')\n",
        "plt.title('Accuracy Evaluation')\n",
        "plt.legend()\n",
        "plt.grid()\n",
        "plt.show()"
      ],
      "execution_count": 12,
      "outputs": [
        {
          "output_type": "display_data",
          "data": {
            "image/png": "[encoded data removed]",
            "text/plain": [
              "<Figure size 432x288 with 1 Axes>"
            ]
          },
          "metadata": {
            "tags": [],
            "needs_background": "light"
          }
        }
      ]
    },
    {
      "cell_type": "code",
      "metadata": {
        "id": "iY7EvocTWx2P",
        "colab_type": "code",
        "outputId": "507c39e7-f74c-4fc6-86cb-a3228884eef7",
        "colab": {
          "base_uri": "https://localhost:8080/",
          "height": 107
        }
      },
      "source": [
        "tf.saved_model.save(model, 'models')"
      ],
      "execution_count": 13,
      "outputs": [
        {
          "output_type": "stream",
          "text": [
            "WARNING:tensorflow:From /usr/local/lib/python3.6/dist-packages/tensorflow/python/ops/resource_variable_ops.py:1817: calling BaseResourceVariable.__init__ (from tensorflow.python.ops.resource_variable_ops) with constraint is deprecated and will be removed in a future version.\n",
            "Instructions for updating:\n",
            "If using Keras pass *_constraint arguments to layers.\n",
            "INFO:tensorflow:Assets written to: models/assets\n"
          ],
          "name": "stdout"
        }
      ]
    },
    {
      "cell_type": "code",
      "metadata": {
        "id": "sd0ZBX8pP_I-",
        "colab_type": "code",
        "colab": {}
      },
      "source": [
        "def download(url, name):\n",
        "    image_path = tf.keras.utils.get_file(name, origin=url)\n",
        "    return image_path"
      ],
      "execution_count": 0,
      "outputs": []
    },
    {
      "cell_type": "code",
      "metadata": {
        "id": "6NTy-WYvKzDl",
        "colab_type": "code",
        "colab": {}
      },
      "source": [
        "def preprocess_image(img_path):\n",
        "    img = cv2.imread(img_path, cv2.IMREAD_GRAYSCALE)\n",
        "    img_copy = img.copy()\n",
        "    img = cv2.resize(img, (28, 28))\n",
        "    img = img/255.0\n",
        "    img = img.reshape(1, 28, 28, 1)\n",
        "    return tf.cast(tf.convert_to_tensor(img), tf.float32), cv2.cvtColor(img_copy, cv2.COLOR_GRAY2RGB)"
      ],
      "execution_count": 0,
      "outputs": []
    },
    {
      "cell_type": "code",
      "metadata": {
        "id": "LEFgP6IoQz8f",
        "colab_type": "code",
        "colab": {}
      },
      "source": [
        "def predict(image_path):\n",
        "  if image_path:\n",
        "    image, original = preprocess_image(image_path)\n",
        "\n",
        "    prediction = model(image)[0]\n",
        "\n",
        "    print(f\"Predicted Digit: {np.argmax(prediction.numpy())}\")\n",
        "\n",
        "    cv2.putText(original, 'Predicted Digit {}'.format(str(np.argmax(prediction.numpy()))), (10, 30), cv2.FONT_HERSHEY_SIMPLEX, 0.7, (0, 255, 0), 2) \n",
        "    \n",
        "    plt.axis('off')\n",
        "    plt.imshow(original)\n",
        "\n",
        "  else:\n",
        "      print('User has not entered a valid path')"
      ],
      "execution_count": 0,
      "outputs": []
    },
    {
      "cell_type": "code",
      "metadata": {
        "id": "_VehWB5UKzDp",
        "colab_type": "code",
        "outputId": "7a4993a2-2ee6-4f58-c330-418f3474dd0f",
        "colab": {
          "base_uri": "https://localhost:8080/",
          "height": 336
        }
      },
      "source": [
        "url = input('Enter image url: ')\n",
        "name = input('Enter a name: ')\n",
        "image_path = download(url, name)\n",
        "predict(image_path)"
      ],
      "execution_count": 17,
      "outputs": [
        {
          "output_type": "stream",
          "text": [
            "Enter image url: https://user-images.githubusercontent.com/379372/31909713-d9046856-b7ef-11e7-98fe-8a1e133c0010.png\n",
            "Enter a name: 698hgki.png\n",
            "Downloading data from https://user-images.githubusercontent.com/379372/31909713-d9046856-b7ef-11e7-98fe-8a1e133c0010.png\n",
            "8192/7907 [===============================] - 0s 0us/step\n",
            "Predicted Digit: 4\n"
          ],
          "name": "stdout"
        },
        {
          "output_type": "display_data",
          "data": {
            "image/png": "[encoded data removed]",
            "text/plain": [
              "<Figure size 432x288 with 1 Axes>"
            ]
          },
          "metadata": {
            "tags": [],
            "needs_background": "light"
          }
        }
      ]
    }
  ]
}